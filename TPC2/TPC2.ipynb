{
 "cells": [
  {
   "cell_type": "code",
   "execution_count": 1,
   "metadata": {},
   "outputs": [
    {
     "name": "stdout",
     "output_type": "stream",
     "text": [
      "Populating the interactive namespace from numpy and matplotlib\n"
     ]
    }
   ],
   "source": [
    "%pylab inline"
   ]
  },
  {
   "cell_type": "markdown",
   "metadata": {},
   "source": [
    "#### Considerando as duas mamografias: 1) Inspecione visualmente as imagens e indique o contorno do objecto; 2) Proponha uma transformação dos níveis de cinzento que permita melhor observação do contorno. Na sua resolução, explique a escolha da curva de transformação. Nota, existem trabalhos publicados que indicam um erro médio inferior a 1 mm. Que dificuldades deverão ser ultrapassadas na construção de um algoritmo robusto para a determinação do contorno."
   ]
  },
  {
   "cell_type": "code",
   "execution_count": null,
   "metadata": {
    "collapsed": true
   },
   "outputs": [],
   "source": []
  },
  {
   "cell_type": "markdown",
   "metadata": {},
   "source": [
    "#### Considerando a imagem 'dipxe_text.tif', implemente a técnica de 'high boost' para realçar o contorno do objecto. Use a função 'interact' para variar o ganho 'A'. Limite a sua gama para valores adequados à imagem."
   ]
  },
  {
   "cell_type": "code",
   "execution_count": null,
   "metadata": {
    "collapsed": true
   },
   "outputs": [],
   "source": []
  },
  {
   "cell_type": "markdown",
   "metadata": {},
   "source": [
    "#### Usando o operador Laplaciano determine o contorno da lente na imagem 'Fig0342(a)(contact_lens_original).tif' conforme apresentado na aula."
   ]
  },
  {
   "cell_type": "code",
   "execution_count": null,
   "metadata": {
    "collapsed": true
   },
   "outputs": [],
   "source": []
  },
  {
   "cell_type": "markdown",
   "metadata": {},
   "source": [
    "#### Replique o processo de realce das imagens de TAC proposto pela General Electrics (slide das aulas)."
   ]
  },
  {
   "cell_type": "code",
   "execution_count": null,
   "metadata": {
    "collapsed": true
   },
   "outputs": [],
   "source": []
  },
  {
   "cell_type": "markdown",
   "metadata": {},
   "source": [
    "#### Calcule os gradientes, os seus ângules e módulos de uma imagem da retina. Na sua resolução, avalie quando usa os kernels de Sobel, Prewitt e Roberts. Calcule o histograma do módulo do gradiente. Na sua resolução use a função do numpy para calcular o histograma."
   ]
  },
  {
   "cell_type": "code",
   "execution_count": null,
   "metadata": {
    "collapsed": true
   },
   "outputs": [],
   "source": []
  }
 ],
 "metadata": {
  "kernelspec": {
   "display_name": "Python 3",
   "language": "python",
   "name": "python3"
  },
  "language_info": {
   "codemirror_mode": {
    "name": "ipython",
    "version": 3
   },
   "file_extension": ".py",
   "mimetype": "text/x-python",
   "name": "python",
   "nbconvert_exporter": "python",
   "pygments_lexer": "ipython3",
   "version": "3.6.2"
  }
 },
 "nbformat": 4,
 "nbformat_minor": 2
}
